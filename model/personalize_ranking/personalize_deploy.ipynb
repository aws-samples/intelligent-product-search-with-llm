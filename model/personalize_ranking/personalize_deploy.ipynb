{
 "cells": [
  {
   "cell_type": "markdown",
   "id": "b09aa91f-57d2-4084-bbfe-4e80859bf2de",
   "metadata": {},
   "source": [
    "# Deploy personalize and ranking campaign\n",
    "\n",
    "#### To deploy with your own data, change the following 4 parameters:\n",
    "1.dataset_group_name: the name of the dataset group \n",
    "\n",
    "2.dataset_name:the name of the dataset \n",
    "\n",
    "3.interactions_schema: the schema of the interaction data \n",
    "\n",
    "4.ranking_campaign_name: the name of the ranking campaign \n",
    "\n",
    "### Import Personalize and S3"
   ]
  },
  {
   "cell_type": "code",
   "execution_count": 2,
   "id": "9529e399-fc2b-4c7a-840a-69f8836f0f1d",
   "metadata": {
    "tags": []
   },
   "outputs": [
    {
     "name": "stdout",
     "output_type": "stream",
     "text": [
      "region: us-east-1\n",
      "bucket_name: 513489159680-us-east-1-personalizemanagedretailers\n"
     ]
    }
   ],
   "source": [
    "import boto3\n",
    "import json\n",
    "import numpy as np\n",
    "import pandas as pd\n",
    "import time\n",
    "import datetime\n",
    "\n",
    "personalize = boto3.client('personalize')\n",
    "personalize_runtime = boto3.client('personalize-runtime')\n",
    "\n",
    "with open('/opt/ml/metadata/resource-metadata.json') as notebook_info:\n",
    "    data = json.load(notebook_info)\n",
    "    resource_arn = data['ResourceArn']\n",
    "    region = resource_arn.split(':')[3]\n",
    "print('region:', region)\n",
    "\n",
    "s3 = boto3.client('s3')\n",
    "account_id = boto3.client('sts').get_caller_identity().get('Account')\n",
    "bucket_name = account_id + \"-\" + region + \"-\" + \"personalizemanagedretailers\"\n",
    "print('bucket_name:', bucket_name)\n",
    "\n",
    "try: \n",
    "    if region == \"us-east-1\":\n",
    "        s3.create_bucket(Bucket=bucket_name)\n",
    "    else:\n",
    "        s3.create_bucket(\n",
    "            Bucket = bucket_name,\n",
    "            CreateBucketConfiguration={'LocationConstraint': region}\n",
    "            )\n",
    "except s3.exceptions.BucketAlreadyOwnedByYou:\n",
    "    print(\"Bucket already exists. Using bucket\", bucket_name)"
   ]
  },
  {
   "cell_type": "markdown",
   "id": "1e6d0696-5ce4-423f-bb7e-be4290cf2e30",
   "metadata": {},
   "source": [
    "### upload interaction data to s3"
   ]
  },
  {
   "cell_type": "code",
   "execution_count": 15,
   "id": "234e4cc6-3be1-4667-b434-7a011275e7f7",
   "metadata": {
    "tags": []
   },
   "outputs": [
    {
     "name": "stdout",
     "output_type": "stream",
     "text": [
      "interactions.csv\n"
     ]
    }
   ],
   "source": [
    "interactions_file = '../retail_data/interactions.csv'\n",
    "filename = interactions_file.split('/')[-1]\n",
    "print(filename)\n",
    "boto3.Session().resource('s3').Bucket(bucket_name).Object(filename).upload_file(interactions_file)\n",
    "interactions_s3DataPath = \"s3://\"+bucket_name+\"/\"+filename"
   ]
  },
  {
   "cell_type": "markdown",
   "id": "05608f1e-1dbc-4613-8f14-dcbb2e7197ec",
   "metadata": {
    "tags": []
   },
   "source": [
    "### Set the S3 bucket policy"
   ]
  },
  {
   "cell_type": "code",
   "execution_count": 5,
   "id": "d7d624ca-ffd4-45b6-9147-7f187e5ed57a",
   "metadata": {
    "tags": []
   },
   "outputs": [
    {
     "data": {
      "text/plain": [
       "{'ResponseMetadata': {'RequestId': 'AP31HT9WB5PN4N4H',\n",
       "  'HostId': 'oB/00KZAXP7XSc5t2XiETR275yaPwa7piloxDSsb/lBTWQAB8v4OtcjsjZgR4XsaUJjAnLvoWQQ=',\n",
       "  'HTTPStatusCode': 204,\n",
       "  'HTTPHeaders': {'x-amz-id-2': 'oB/00KZAXP7XSc5t2XiETR275yaPwa7piloxDSsb/lBTWQAB8v4OtcjsjZgR4XsaUJjAnLvoWQQ=',\n",
       "   'x-amz-request-id': 'AP31HT9WB5PN4N4H',\n",
       "   'date': 'Mon, 20 Nov 2023 02:33:25 GMT',\n",
       "   'server': 'AmazonS3'},\n",
       "  'RetryAttempts': 0}}"
      ]
     },
     "execution_count": 5,
     "metadata": {},
     "output_type": "execute_result"
    }
   ],
   "source": [
    "s3 = boto3.client(\"s3\")\n",
    "policy = {\n",
    "    \"Version\": \"2012-10-17\",\n",
    "    \"Id\": \"PersonalizeS3BucketAccessPolicy\",\n",
    "    \"Statement\": [\n",
    "        {\n",
    "            \"Sid\": \"PersonalizeS3BucketAccessPolicy\",\n",
    "            \"Effect\": \"Allow\",\n",
    "            \"Principal\": {\n",
    "                \"Service\": \"personalize.amazonaws.com\"\n",
    "            },\n",
    "            \"Action\": [\n",
    "                \"s3:GetObject\",\n",
    "                \"s3:ListBucket\"\n",
    "            ],\n",
    "            \"Resource\": [\n",
    "                \"arn:aws:s3:::{}\".format(bucket_name),\n",
    "                \"arn:aws:s3:::{}/*\".format(bucket_name)\n",
    "            ]\n",
    "        }\n",
    "    ]\n",
    "}\n",
    "\n",
    "s3.put_bucket_policy(Bucket=bucket_name, Policy=json.dumps(policy))"
   ]
  },
  {
   "cell_type": "markdown",
   "id": "49cfecfc-ef8d-4e34-80a3-fdc52add3fd7",
   "metadata": {},
   "source": [
    "### Create Dataset Group"
   ]
  },
  {
   "cell_type": "code",
   "execution_count": 7,
   "id": "50a64a23-32bf-4f1b-a748-d85030c71ac5",
   "metadata": {
    "tags": []
   },
   "outputs": [
    {
     "name": "stdout",
     "output_type": "stream",
     "text": [
      "{\n",
      "  \"datasetGroupArn\": \"arn:aws:personalize:us-east-1:513489159680:dataset-group/personalize_ecomemerce_ds_group\",\n",
      "  \"domain\": \"ECOMMERCE\",\n",
      "  \"ResponseMetadata\": {\n",
      "    \"RequestId\": \"2ff871ec-c9c5-4bfa-8e38-77e714201aba\",\n",
      "    \"HTTPStatusCode\": 200,\n",
      "    \"HTTPHeaders\": {\n",
      "      \"date\": \"Mon, 20 Nov 2023 02:34:46 GMT\",\n",
      "      \"content-type\": \"application/x-amz-json-1.1\",\n",
      "      \"content-length\": \"131\",\n",
      "      \"connection\": \"keep-alive\",\n",
      "      \"x-amzn-requestid\": \"2ff871ec-c9c5-4bfa-8e38-77e714201aba\"\n",
      "    },\n",
      "    \"RetryAttempts\": 0\n",
      "  }\n",
      "}\n"
     ]
    }
   ],
   "source": [
    "dataset_group_name = 'personalize_ecomemerce_ds_group'\n",
    "response = personalize.create_dataset_group(\n",
    "    name=dataset_group_name,\n",
    "    domain='ECOMMERCE'\n",
    ")\n",
    "\n",
    "dataset_group_arn = response['datasetGroupArn']\n",
    "print(json.dumps(response, indent=2))"
   ]
  },
  {
   "cell_type": "code",
   "execution_count": 8,
   "id": "82d3a692-9cd7-4da4-8a71-39fb76cf9d7a",
   "metadata": {
    "tags": []
   },
   "outputs": [
    {
     "name": "stdout",
     "output_type": "stream",
     "text": [
      "DatasetGroup: ACTIVE\n",
      "CPU times: user 5.33 ms, sys: 0 ns, total: 5.33 ms\n",
      "Wall time: 36.6 ms\n"
     ]
    }
   ],
   "source": [
    "%%time\n",
    "\n",
    "max_time = time.time() + 3*60*60 # 3 hours\n",
    "while time.time() < max_time:\n",
    "    describe_dataset_group_response = personalize.describe_dataset_group(\n",
    "        datasetGroupArn = dataset_group_arn\n",
    "    )\n",
    "    status = describe_dataset_group_response[\"datasetGroup\"][\"status\"]\n",
    "    print(\"DatasetGroup: {}\".format(status))\n",
    "    \n",
    "    if status == \"ACTIVE\" or status == \"CREATE FAILED\":\n",
    "        break\n",
    "        \n",
    "    time.sleep(60)"
   ]
  },
  {
   "cell_type": "markdown",
   "id": "046acadd-2b5f-469e-a523-d152ce029df0",
   "metadata": {},
   "source": [
    "### Create Interactions Schema"
   ]
  },
  {
   "cell_type": "code",
   "execution_count": 9,
   "id": "2e2d3bbd-ed05-4ef8-9297-0da52e94d99e",
   "metadata": {
    "tags": []
   },
   "outputs": [
    {
     "name": "stdout",
     "output_type": "stream",
     "text": [
      "{\n",
      "  \"schemaArn\": \"arn:aws:personalize:us-east-1:513489159680:schema/personalize-ecommerce-interatn_group\",\n",
      "  \"ResponseMetadata\": {\n",
      "    \"RequestId\": \"cdf27516-ab63-491f-b67c-ba168bd88c48\",\n",
      "    \"HTTPStatusCode\": 200,\n",
      "    \"HTTPHeaders\": {\n",
      "      \"date\": \"Mon, 20 Nov 2023 02:34:53 GMT\",\n",
      "      \"content-type\": \"application/x-amz-json-1.1\",\n",
      "      \"content-length\": \"102\",\n",
      "      \"connection\": \"keep-alive\",\n",
      "      \"x-amzn-requestid\": \"cdf27516-ab63-491f-b67c-ba168bd88c48\"\n",
      "    },\n",
      "    \"RetryAttempts\": 0\n",
      "  }\n",
      "}\n"
     ]
    }
   ],
   "source": [
    "interactions_schema = schema = {\n",
    "    \"type\": \"record\",\n",
    "    \"name\": \"Interactions\",\n",
    "    \"namespace\": \"com.amazonaws.personalize.schema\",\n",
    "    \"fields\": [\n",
    "        {\n",
    "            \"name\": \"USER_ID\",\n",
    "            \"type\": \"string\"\n",
    "        },\n",
    "        {\n",
    "            \"name\": \"ITEM_ID\",\n",
    "            \"type\": \"string\"\n",
    "        },\n",
    "        {\n",
    "            \"name\": \"TIMESTAMP\",\n",
    "            \"type\": \"long\"\n",
    "        },\n",
    "        {\n",
    "            \"name\": \"EVENT_TYPE\",\n",
    "            \"type\": \"string\"\n",
    "            \n",
    "        }\n",
    "    ],\n",
    "    \"version\": \"1.0\"\n",
    "}\n",
    "\n",
    "create_schema_response = personalize.create_schema(\n",
    "    name = \"personalize-ecommerce-interatn_group\",\n",
    "    domain = \"ECOMMERCE\",\n",
    "    schema = json.dumps(interactions_schema)\n",
    ")\n",
    "\n",
    "interaction_schema_arn = create_schema_response['schemaArn']\n",
    "print(json.dumps(create_schema_response, indent=2))"
   ]
  },
  {
   "cell_type": "markdown",
   "id": "063c755d-90d9-4dee-aca1-2f6b48950ec3",
   "metadata": {},
   "source": [
    "### Create Interactions Dataset"
   ]
  },
  {
   "cell_type": "code",
   "execution_count": 10,
   "id": "41c09309-4f89-429e-b6d3-3917c2eeb428",
   "metadata": {
    "tags": []
   },
   "outputs": [
    {
     "name": "stdout",
     "output_type": "stream",
     "text": [
      "{\n",
      "  \"datasetArn\": \"arn:aws:personalize:us-east-1:513489159680:dataset/personalize_ecomemerce_ds_group/INTERACTIONS\",\n",
      "  \"ResponseMetadata\": {\n",
      "    \"RequestId\": \"9356ce9e-2306-4c82-a6e3-35e27906b694\",\n",
      "    \"HTTPStatusCode\": 200,\n",
      "    \"HTTPHeaders\": {\n",
      "      \"date\": \"Mon, 20 Nov 2023 02:34:57 GMT\",\n",
      "      \"content-type\": \"application/x-amz-json-1.1\",\n",
      "      \"content-length\": \"112\",\n",
      "      \"connection\": \"keep-alive\",\n",
      "      \"x-amzn-requestid\": \"9356ce9e-2306-4c82-a6e3-35e27906b694\"\n",
      "    },\n",
      "    \"RetryAttempts\": 0\n",
      "  }\n",
      "}\n"
     ]
    }
   ],
   "source": [
    "dataset_name = \"personalize_ecommerce_demo_interactions\"\n",
    "dataset_type = \"INTERACTIONS\"\n",
    "create_dataset_response = personalize.create_dataset(\n",
    "    name = dataset_name,\n",
    "    datasetType = dataset_type,\n",
    "    datasetGroupArn = dataset_group_arn,\n",
    "    schemaArn = interaction_schema_arn\n",
    ")\n",
    "\n",
    "interactions_dataset_arn = create_dataset_response['datasetArn']\n",
    "print(json.dumps(create_dataset_response, indent=2))"
   ]
  },
  {
   "cell_type": "markdown",
   "id": "79d89c64-c215-4332-a295-560e51b814a1",
   "metadata": {},
   "source": [
    "### Create Personalize Role"
   ]
  },
  {
   "cell_type": "code",
   "execution_count": 13,
   "id": "a46f58ee-62b7-4e8a-9d2e-42cd4a5374a8",
   "metadata": {
    "tags": []
   },
   "outputs": [
    {
     "name": "stdout",
     "output_type": "stream",
     "text": [
      "arn:aws:iam::513489159680:role/PersonalizeRoleEcommerceDemoRecommender\n"
     ]
    }
   ],
   "source": [
    "iam = boto3.client(\"iam\")\n",
    "\n",
    "role_name = \"PersonalizeRoleEcommerceDemoRecommender\"\n",
    "assume_role_policy_document = {\n",
    "    \"Version\": \"2012-10-17\",\n",
    "    \"Statement\": [\n",
    "        {\n",
    "          \"Effect\": \"Allow\",\n",
    "          \"Principal\": {\n",
    "            \"Service\": \"personalize.amazonaws.com\"\n",
    "          },\n",
    "          \"Action\": \"sts:AssumeRole\"\n",
    "        }\n",
    "    ]\n",
    "}\n",
    "\n",
    "create_role_response = iam.create_role(\n",
    "    RoleName = role_name,\n",
    "    AssumeRolePolicyDocument = json.dumps(assume_role_policy_document)\n",
    ")\n",
    "\n",
    "policy_arn = \"arn:aws:iam::aws:policy/service-role/AmazonPersonalizeFullAccess\"\n",
    "iam.attach_role_policy(\n",
    "    RoleName = role_name,\n",
    "    PolicyArn = policy_arn\n",
    ")\n",
    "\n",
    "# # Now add S3 support\n",
    "iam.attach_role_policy(\n",
    "    PolicyArn='arn:aws:iam::aws:policy/AmazonS3FullAccess',\n",
    "    RoleName=role_name\n",
    ")\n",
    "time.sleep(60) # wait for a minute to allow IAM role policy attachment to propagate\n",
    "\n",
    "role_arn = create_role_response[\"Role\"][\"Arn\"]\n",
    "print(role_arn)\n"
   ]
  },
  {
   "cell_type": "markdown",
   "id": "71fe87f0-100a-4372-ab36-a50da8be5d21",
   "metadata": {},
   "source": [
    "## Import the data\n",
    "\n",
    "### Create Interactions Dataset Import Job"
   ]
  },
  {
   "cell_type": "code",
   "execution_count": 17,
   "id": "cf839682-b692-4f45-96bf-faaf46a0a239",
   "metadata": {
    "tags": []
   },
   "outputs": [
    {
     "name": "stdout",
     "output_type": "stream",
     "text": [
      "{\n",
      "  \"datasetImportJobArn\": \"arn:aws:personalize:us-east-1:513489159680:dataset-import-job/personalize_ecommerce_demo_interactions_import\",\n",
      "  \"ResponseMetadata\": {\n",
      "    \"RequestId\": \"b5a55bcd-6da6-419d-99ec-da866e956af6\",\n",
      "    \"HTTPStatusCode\": 200,\n",
      "    \"HTTPHeaders\": {\n",
      "      \"date\": \"Mon, 20 Nov 2023 02:42:58 GMT\",\n",
      "      \"content-type\": \"application/x-amz-json-1.1\",\n",
      "      \"content-length\": \"134\",\n",
      "      \"connection\": \"keep-alive\",\n",
      "      \"x-amzn-requestid\": \"b5a55bcd-6da6-419d-99ec-da866e956af6\"\n",
      "    },\n",
      "    \"RetryAttempts\": 0\n",
      "  }\n",
      "}\n"
     ]
    }
   ],
   "source": [
    "create_interactions_dataset_import_job_response = personalize.create_dataset_import_job(\n",
    "    jobName = \"personalize_ecommerce_demo_interactions_import\",\n",
    "    datasetArn = interactions_dataset_arn,\n",
    "    dataSource = {\n",
    "        \"dataLocation\": \"s3://{}/{}\".format(bucket_name, filename)\n",
    "    },\n",
    "    roleArn = role_arn\n",
    ")\n",
    "\n",
    "dataset_interactions_import_job_arn = create_interactions_dataset_import_job_response['datasetImportJobArn']\n",
    "print(json.dumps(create_interactions_dataset_import_job_response, indent=2))"
   ]
  },
  {
   "cell_type": "code",
   "execution_count": 18,
   "id": "874a4059-8503-4f34-9dfa-8d60ca11ae22",
   "metadata": {
    "tags": []
   },
   "outputs": [
    {
     "name": "stdout",
     "output_type": "stream",
     "text": [
      "DatasetImportJob: CREATE PENDING\n",
      "DatasetImportJob: CREATE IN_PROGRESS\n",
      "DatasetImportJob: CREATE IN_PROGRESS\n",
      "DatasetImportJob: ACTIVE\n",
      "CPU times: user 83.5 ms, sys: 4.32 ms, total: 87.8 ms\n",
      "Wall time: 3min\n"
     ]
    }
   ],
   "source": [
    "%%time\n",
    "\n",
    "max_time = time.time() + 3*60*60 # 3 hours\n",
    "while time.time() < max_time:\n",
    "    describe_dataset_import_job_response = personalize.describe_dataset_import_job(\n",
    "        datasetImportJobArn = dataset_interactions_import_job_arn\n",
    "    )\n",
    "    status = describe_dataset_import_job_response[\"datasetImportJob\"]['status']\n",
    "    print(\"DatasetImportJob: {}\".format(status))\n",
    "    \n",
    "    if status == \"ACTIVE\" or status == \"CREATE FAILED\":\n",
    "        break\n",
    "        \n",
    "    time.sleep(60)"
   ]
  },
  {
   "cell_type": "markdown",
   "id": "9ba1ac5e-5450-4ed8-86f6-5d8ca040476f",
   "metadata": {
    "tags": []
   },
   "source": [
    "## build ranking recipe"
   ]
  },
  {
   "cell_type": "code",
   "execution_count": 19,
   "id": "d5e35a94-36cd-4f70-a82d-681bf5b45683",
   "metadata": {
    "tags": []
   },
   "outputs": [
    {
     "name": "stdout",
     "output_type": "stream",
     "text": [
      "{\n",
      "  \"solutionArn\": \"arn:aws:personalize:us-east-1:513489159680:solution/personalize-ranking\",\n",
      "  \"ResponseMetadata\": {\n",
      "    \"RequestId\": \"98b8749c-a2b2-494b-aa26-a87cf0470176\",\n",
      "    \"HTTPStatusCode\": 200,\n",
      "    \"HTTPHeaders\": {\n",
      "      \"date\": \"Mon, 20 Nov 2023 02:46:12 GMT\",\n",
      "      \"content-type\": \"application/x-amz-json-1.1\",\n",
      "      \"content-length\": \"89\",\n",
      "      \"connection\": \"keep-alive\",\n",
      "      \"x-amzn-requestid\": \"98b8749c-a2b2-494b-aa26-a87cf0470176\"\n",
      "    },\n",
      "    \"RetryAttempts\": 0\n",
      "  }\n",
      "}\n"
     ]
    }
   ],
   "source": [
    "rank_recipe_arn = \"arn:aws:personalize:::recipe/aws-personalized-ranking\"\n",
    "rank_create_solution_response = personalize.create_solution(\n",
    "    name = \"personalize-ranking\",\n",
    "    datasetGroupArn = dataset_group_arn,\n",
    "    recipeArn = rank_recipe_arn\n",
    ")\n",
    "\n",
    "rank_solution_arn = rank_create_solution_response['solutionArn']\n",
    "print(json.dumps(rank_create_solution_response, indent=2))"
   ]
  },
  {
   "cell_type": "code",
   "execution_count": 20,
   "id": "a22a557b-2811-40bb-9a56-09bdb122c7bf",
   "metadata": {
    "tags": []
   },
   "outputs": [
    {
     "name": "stdout",
     "output_type": "stream",
     "text": [
      "{\n",
      "  \"solutionVersionArn\": \"arn:aws:personalize:us-east-1:513489159680:solution/personalize-ranking/197c10e1\",\n",
      "  \"ResponseMetadata\": {\n",
      "    \"RequestId\": \"ecd9a1ed-f53a-4a98-b8b7-2b9ac82cc8bb\",\n",
      "    \"HTTPStatusCode\": 200,\n",
      "    \"HTTPHeaders\": {\n",
      "      \"date\": \"Mon, 20 Nov 2023 02:46:14 GMT\",\n",
      "      \"content-type\": \"application/x-amz-json-1.1\",\n",
      "      \"content-length\": \"105\",\n",
      "      \"connection\": \"keep-alive\",\n",
      "      \"x-amzn-requestid\": \"ecd9a1ed-f53a-4a98-b8b7-2b9ac82cc8bb\"\n",
      "    },\n",
      "    \"RetryAttempts\": 0\n",
      "  }\n",
      "}\n"
     ]
    }
   ],
   "source": [
    "rank_create_solution_version_response = personalize.create_solution_version(\n",
    "    solutionArn = rank_solution_arn\n",
    ")\n",
    "rank_solution_version_arn = rank_create_solution_version_response['solutionVersionArn']\n",
    "print(json.dumps(rank_create_solution_version_response, indent=2))"
   ]
  },
  {
   "cell_type": "code",
   "execution_count": 21,
   "id": "acfd6fe8-2693-4079-b856-2d0a9b4162af",
   "metadata": {
    "tags": []
   },
   "outputs": [
    {
     "name": "stdout",
     "output_type": "stream",
     "text": [
      "At least one solution build is still in progress\n",
      "At least one solution build is still in progress\n",
      "At least one solution build is still in progress\n",
      "At least one solution build is still in progress\n",
      "At least one solution build is still in progress\n",
      "At least one solution build is still in progress\n",
      "At least one solution build is still in progress\n",
      "At least one solution build is still in progress\n",
      "At least one solution build is still in progress\n",
      "At least one solution build is still in progress\n",
      "At least one solution build is still in progress\n",
      "At least one solution build is still in progress\n",
      "At least one solution build is still in progress\n",
      "At least one solution build is still in progress\n",
      "At least one solution build is still in progress\n",
      "At least one solution build is still in progress\n",
      "At least one solution build is still in progress\n",
      "At least one solution build is still in progress\n",
      "At least one solution build is still in progress\n",
      "At least one solution build is still in progress\n",
      "At least one solution build is still in progress\n",
      "Build succeeded for arn:aws:personalize:us-east-1:513489159680:solution/personalize-ranking/197c10e1\n"
     ]
    }
   ],
   "source": [
    "in_progress_solution_versions = [\n",
    "    rank_solution_version_arn\n",
    "]\n",
    "\n",
    "max_time = time.time() + 3*60*60 # 3 hours\n",
    "while time.time() < max_time:\n",
    "    for solution_version_arn in in_progress_solution_versions:\n",
    "        version_response = personalize.describe_solution_version(\n",
    "            solutionVersionArn = solution_version_arn\n",
    "        )\n",
    "        status = version_response[\"solutionVersion\"][\"status\"]\n",
    "        \n",
    "        if status == \"ACTIVE\":\n",
    "            print(\"Build succeeded for {}\".format(solution_version_arn))\n",
    "            in_progress_solution_versions.remove(solution_version_arn)\n",
    "        elif status == \"CREATE FAILED\":\n",
    "            print(\"Build failed for {}\".format(solution_version_arn))\n",
    "            in_progress_solution_versions.remove(solution_version_arn)\n",
    "    \n",
    "    if len(in_progress_solution_versions) <= 0:\n",
    "        break\n",
    "    else:\n",
    "        print(\"At least one solution build is still in progress\")\n",
    "        \n",
    "    time.sleep(60)"
   ]
  },
  {
   "cell_type": "markdown",
   "id": "dc7a6d01-5c96-4b29-a409-03c5f592c097",
   "metadata": {},
   "source": [
    "### build ranking campaign"
   ]
  },
  {
   "cell_type": "code",
   "execution_count": 22,
   "id": "ecc36a83-861c-4205-859e-4e32d43bb993",
   "metadata": {
    "tags": []
   },
   "outputs": [
    {
     "name": "stdout",
     "output_type": "stream",
     "text": [
      "{\n",
      "  \"campaignArn\": \"arn:aws:personalize:us-east-1:513489159680:campaign/personalize-poc-rerank\",\n",
      "  \"ResponseMetadata\": {\n",
      "    \"RequestId\": \"2d565355-9d32-4ff5-8cc2-d05a493b6162\",\n",
      "    \"HTTPStatusCode\": 200,\n",
      "    \"HTTPHeaders\": {\n",
      "      \"date\": \"Mon, 20 Nov 2023 03:11:27 GMT\",\n",
      "      \"content-type\": \"application/x-amz-json-1.1\",\n",
      "      \"content-length\": \"92\",\n",
      "      \"connection\": \"keep-alive\",\n",
      "      \"x-amzn-requestid\": \"2d565355-9d32-4ff5-8cc2-d05a493b6162\"\n",
      "    },\n",
      "    \"RetryAttempts\": 0\n",
      "  }\n",
      "}\n"
     ]
    }
   ],
   "source": [
    "ranking_campaign_name = \"personalize-poc-rerank\"\n",
    "rank_create_campaign_response = personalize.create_campaign(\n",
    "    name = ranking_campaign_name,\n",
    "    solutionVersionArn = rank_solution_version_arn,\n",
    "    minProvisionedTPS = 1\n",
    ")\n",
    "rank_campaign_arn = rank_create_campaign_response['campaignArn']\n",
    "print(json.dumps(rank_create_campaign_response, indent=2))"
   ]
  },
  {
   "cell_type": "code",
   "execution_count": 23,
   "id": "27cffa33-ae8b-49f8-a25f-a20c119287df",
   "metadata": {
    "tags": []
   },
   "outputs": [
    {
     "name": "stdout",
     "output_type": "stream",
     "text": [
      "At least one campaign build is still in progress\n",
      "At least one campaign build is still in progress\n",
      "At least one campaign build is still in progress\n",
      "At least one campaign build is still in progress\n",
      "At least one campaign build is still in progress\n",
      "At least one campaign build is still in progress\n",
      "At least one campaign build is still in progress\n",
      "At least one campaign build is still in progress\n",
      "At least one campaign build is still in progress\n",
      "At least one campaign build is still in progress\n",
      "Build succeeded for arn:aws:personalize:us-east-1:513489159680:campaign/personalize-poc-rerank\n"
     ]
    }
   ],
   "source": [
    "in_progress_campaigns = [\n",
    "    rank_campaign_arn\n",
    "]\n",
    "\n",
    "max_time = time.time() + 3*60*60 # 3 hours\n",
    "while time.time() < max_time:\n",
    "    for campaign_arn in in_progress_campaigns:\n",
    "        version_response = personalize.describe_campaign(\n",
    "            campaignArn = campaign_arn\n",
    "        )\n",
    "        status = version_response[\"campaign\"][\"status\"]\n",
    "        \n",
    "        if status == \"ACTIVE\":\n",
    "            print(\"Build succeeded for {}\".format(campaign_arn))\n",
    "            in_progress_campaigns.remove(campaign_arn)\n",
    "        elif status == \"CREATE FAILED\":\n",
    "            print(\"Build failed for {}\".format(campaign_arn))\n",
    "            in_progress_campaigns.remove(campaign_arn)\n",
    "    \n",
    "    if len(in_progress_campaigns) <= 0:\n",
    "        break\n",
    "    else:\n",
    "        print(\"At least one campaign build is still in progress\")\n",
    "        \n",
    "    time.sleep(60)"
   ]
  },
  {
   "cell_type": "markdown",
   "id": "c240b04c-f6aa-441e-baf2-5cda34712f7c",
   "metadata": {},
   "source": [
    "### Test"
   ]
  },
  {
   "cell_type": "code",
   "execution_count": 24,
   "id": "3a93cb26-763c-4563-b4d6-2c3b7309aa29",
   "metadata": {
    "tags": []
   },
   "outputs": [
    {
     "name": "stdout",
     "output_type": "stream",
     "text": [
      "ranking_result: [{'itemId': 'b93b7b15-9bb3-407c-b80b-517e7c45e090', 'score': 0.9976291}, {'itemId': '3946f4c8-1b5b-4161-b794-70b33affb671', 'score': 0.0020539}, {'itemId': 'b98a3579-2a92-47e5-a9ae-65d776c76ac3', 'score': 0.000317}]\n"
     ]
    }
   ],
   "source": [
    "user_id = '3156'\n",
    "item_id_list = ['b93b7b15-9bb3-407c-b80b-517e7c45e090','3946f4c8-1b5b-4161-b794-70b33affb671','b98a3579-2a92-47e5-a9ae-65d776c76ac3']\n",
    "\n",
    "personalize_runtime = boto3.client('personalize-runtime')\n",
    "result = personalize_runtime.get_personalized_ranking(\n",
    "    campaignArn = rank_campaign_arn,\n",
    "    userId = user_id,\n",
    "    inputList = item_id_list\n",
    ")\n",
    "\n",
    "ranking_result = result['personalizedRanking']        \n",
    "print(\"ranking_result:\",ranking_result)"
   ]
  },
  {
   "cell_type": "code",
   "execution_count": null,
   "id": "cd32cd9a-52aa-453e-bf7a-0c2932baa11f",
   "metadata": {},
   "outputs": [],
   "source": []
  }
 ],
 "metadata": {
  "kernelspec": {
   "display_name": "conda_python3",
   "language": "python",
   "name": "conda_python3"
  },
  "language_info": {
   "codemirror_mode": {
    "name": "ipython",
    "version": 3
   },
   "file_extension": ".py",
   "mimetype": "text/x-python",
   "name": "python",
   "nbconvert_exporter": "python",
   "pygments_lexer": "ipython3",
   "version": "3.10.13"
  }
 },
 "nbformat": 4,
 "nbformat_minor": 5
}
