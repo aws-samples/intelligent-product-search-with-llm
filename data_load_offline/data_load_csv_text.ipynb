{
 "cells": [
  {
   "cell_type": "code",
   "execution_count": null,
   "id": "3d8d5322-bbd3-4ce5-8743-b982b44ba17d",
   "metadata": {},
   "outputs": [],
   "source": [
    "#Need to run when data loading for the first time\n",
    "!pip install opensearch-py"
   ]
  },
  {
   "cell_type": "code",
   "execution_count": null,
   "id": "13738b78-4cc9-4882-876f-6e8e1d4bd5d3",
   "metadata": {},
   "outputs": [],
   "source": [
    "index =  \"\"\n",
    "language = \"\"\n",
    "endpoint_name = \"\"\n",
    "image_endpoint_name = ''"
   ]
  },
  {
   "cell_type": "code",
   "execution_count": null,
   "id": "2b6f489d-0a48-40d4-bed6-3cf8c6e5406e",
   "metadata": {},
   "outputs": [],
   "source": [
    "import json\n",
    "import csv\n",
    "from opensearch_search import add_products\n",
    "from embeddings import get_embedding_sagemaker,get_image_embedding_sagemaker\n",
    "file = 'data/item-DE-utf8.csv'\n",
    "\n",
    "product_info_list = []\n",
    "product_embedding_list = []\n",
    "metadatas = []\n",
    "i = 0\n",
    "\n",
    "\n",
    "with open(file) as csv_file:\n",
    "    csv_reader = csv.reader(csv_file, delimiter=',')\n",
    "    line_count = 0\n",
    "    for row in csv_reader:\n",
    "        i += 1\n",
    "        if i == 1:\n",
    "            pass\n",
    "        else:\n",
    "            ITEM_ID = row[0]\n",
    "            PARENT_ID = row[1]\n",
    "            PRICE = row[2]\n",
    "            BRAND = row[3]\n",
    "            COLOR = row[4]\n",
    "            SIZE = row[5]\n",
    "            CATEGORY = row[6]\n",
    "            NAME = row[7]\n",
    "            SHORT_DESCRIPTION = row[8]\n",
    "            KEYWORDS = row[9]\n",
    "            STATUS = row[10]\n",
    "            STOCK = row[11]\n",
    "            METACLASS_ID = row[12]\n",
    "            \n",
    "            product_info = BRAND + ' ' +  NAME + ' ' +  KEYWORDS\n",
    "            product_info_list.append(product_info)\n",
    "            product_embedding = get_embedding_sagemaker(endpoint_name, product_info, language)\n",
    "            product_embedding_list.append(product_embedding)\n",
    "            metadata = {}\n",
    "            metadata['ITEM_ID'] = ITEM_ID\n",
    "            metadata['PARENT_ID'] = PARENT_ID\n",
    "            metadata['PRICE'] = PRICE\n",
    "            metadata['BRAND'] = BRAND\n",
    "            metadata['COLOR'] = COLOR\n",
    "            metadata['SIZE'] = SIZE\n",
    "            metadata['CATEGORY'] = CATEGORY\n",
    "            metadata['NAME'] = NAME\n",
    "            metadata['SHORT_DESCRIPTION'] = SHORT_DESCRIPTION\n",
    "            metadata['KEYWORDS'] = KEYWORDS\n",
    "            metadata['STATUS'] = STATUS\n",
    "            metadata['STOCK'] = STOCK\n",
    "            metadata['METACLASS_ID'] = METACLASS_ID\n",
    "            metadatas.append(metadata)\n",
    "\n",
    "        if i != 0 and i % 100 == 0:\n",
    "            print(i)\n",
    "            print('product number:',len(product_info_list))\n",
    "            add_products(index,product_info_list,product_embedding_list,metadatas)\n",
    "            product_info_list = []\n",
    "            product_embedding_list = []\n",
    "            metadatas = []\n",
    "            print('finish add products to opensearch,index is:' + index)\n",
    "            \n",
    "print('product number:',len(product_info_list))\n",
    "\n",
    "add_products(index,product_info_list,product_embedding_list,metadatas)\n",
    "\n",
    "print('finish add products to opensearch,index is:' + index)"
   ]
  }
 ],
 "metadata": {
  "kernelspec": {
   "display_name": "conda_pytorch_p310",
   "language": "python",
   "name": "conda_pytorch_p310"
  },
  "language_info": {
   "codemirror_mode": {
    "name": "ipython",
    "version": 3
   },
   "file_extension": ".py",
   "mimetype": "text/x-python",
   "name": "python",
   "nbconvert_exporter": "python",
   "pygments_lexer": "ipython3",
   "version": "3.10.13"
  }
 },
 "nbformat": 4,
 "nbformat_minor": 5
}
