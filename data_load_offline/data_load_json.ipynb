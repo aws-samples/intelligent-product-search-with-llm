{
 "cells": [
  {
   "cell_type": "code",
   "execution_count": null,
   "id": "e3d25724-050a-4ebd-8223-431a73741611",
   "metadata": {},
   "outputs": [],
   "source": [
    "#Need to run when data loading for the first time\n",
    "!pip install opensearch-py"
   ]
  },
  {
   "cell_type": "code",
   "execution_count": 1,
   "id": "b10457cb-e82e-42dd-8031-e276d4ca6773",
   "metadata": {
    "tags": []
   },
   "outputs": [],
   "source": [
    "index =  \"adidas_demo_test_0406_5\"\n",
    "language = \"chinese\"\n",
    "endpoint_name = \"bge-m3-2024-03-31-02-43-25-634-endpoint\"\n",
    "image_endpoint_name = 'image-embedding-clip-vit-base-patch32-2024-04-06-14-59-49-269'"
   ]
  },
  {
   "cell_type": "code",
   "execution_count": null,
   "id": "27822db2-e2a9-41d7-ac4d-bd448450df41",
   "metadata": {
    "tags": []
   },
   "outputs": [],
   "source": [
    "import json\n",
    "from opensearch_search import add_products\n",
    "from embeddings import get_embedding_sagemaker,get_image_embedding_sagemaker\n",
    "file = 'aws_product_description.json'\n",
    "\n",
    "product_info_list = []\n",
    "product_embedding_list = []\n",
    "image_embedding_list = []\n",
    "metadatas = []\n",
    "i = 0\n",
    "\n",
    "with open(file) as f:\n",
    "    items = json.load(f)\n",
    "    for item in items:\n",
    "        product_info = ''\n",
    "        description_info = ''\n",
    "        metadata = {}\n",
    "        media_url = item['media_url'] if 'media_url' in item.keys() and len(item['media_url']) > 0 else ''\n",
    "        product_code = item['product_code'] if 'product_code' in item.keys() and len(item['product_code']) > 0 else ''\n",
    "        product_name = item['product_name'] if 'product_name' in item.keys() and len(item['product_name']) > 0 else ''\n",
    "        reverse = item['reverse'] if 'reverse' in item.keys() and len(item['reverse']) > 0 else ''\n",
    "        \n",
    "        formatted_description_info = item['formatted_description_info'] if 'formatted_description_info' in item.keys() and len(item['formatted_description_info']) > 0 else ''\n",
    "        if 'bullets' in formatted_description_info.keys():\n",
    "            bullets = formatted_description_info['bullets']\n",
    "            if len(bullets) > 0:\n",
    "                bullets_info = ','.join([bullet.replace('•   ','') for bullet in bullets])\n",
    "                product_info += bullets_info\n",
    "                description_info += bullets_info\n",
    "                \n",
    "        if 'contents' in formatted_description_info.keys():\n",
    "            contents = formatted_description_info['contents']\n",
    "            if len(contents) > 0:\n",
    "                for content in contents:\n",
    "                    if 'text' in content.keys() and len(content['text']) > 0:\n",
    "                        description_info += (',' + content['text'].strip())\n",
    "        \n",
    "        if 'title' in formatted_description_info.keys():\n",
    "            title = formatted_description_info['title'].strip()\n",
    "            if len(title) > 0:\n",
    "                description_info += (','+title)\n",
    "        \n",
    "        if len(product_name) > 0:\n",
    "            product_info += (','+product_name)\n",
    "        \n",
    "        if len(product_info) > 0: \n",
    "            product_info_list.append(product_info)\n",
    "            \n",
    "            product_embedding = get_embedding_sagemaker(endpoint_name, product_info, language)\n",
    "            product_embedding_list.append(product_embedding)\n",
    "            metadata['media_url'] = media_url\n",
    "            metadata['product_code'] = product_code\n",
    "            metadata['product_name'] = product_name\n",
    "            metadata['reverse'] = reverse\n",
    "            metadata['description_info'] = description_info\n",
    "            metadatas.append(metadata)\n",
    "            image_embedding = get_image_embedding_sagemaker(image_endpoint_name,media_url)\n",
    "            image_embedding_list.append(image_embedding)\n",
    "        \n",
    "        i += 1\n",
    "        print('i:',i)\n",
    "        if i % 100 == 0:\n",
    "            add_products(index,product_info_list,product_embedding_list,metadatas,image_embedding_list)\n",
    "            product_info_list = []\n",
    "            product_embedding_list = []\n",
    "            image_embedding_list = []\n",
    "            metadatas = []\n",
    "            print('finish add products to opensearch,index is:' + index)\n",
    "            \n",
    "        \n",
    "print('product number:',len(product_info_list))\n",
    "\n",
    "add_products(index,product_info_list,product_embedding_list,image_embedding_list,metadatas)\n",
    "\n",
    "print('finish add products to opensearch,index is:' + index)"
   ]
  }
 ],
 "metadata": {
  "kernelspec": {
   "display_name": "conda_pytorch_p310",
   "language": "python",
   "name": "conda_pytorch_p310"
  },
  "language_info": {
   "codemirror_mode": {
    "name": "ipython",
    "version": 3
   },
   "file_extension": ".py",
   "mimetype": "text/x-python",
   "name": "python",
   "nbconvert_exporter": "python",
   "pygments_lexer": "ipython3",
   "version": "3.10.13"
  }
 },
 "nbformat": 4,
 "nbformat_minor": 5
}
