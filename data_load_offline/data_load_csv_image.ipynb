{
 "cells": [
  {
   "cell_type": "code",
   "execution_count": null,
   "id": "1369a828-33cc-4917-8eed-56db9f2bb231",
   "metadata": {},
   "outputs": [],
   "source": [
    "#Need to run when data loading for the first time\n",
    "!pip install opensearch-py"
   ]
  },
  {
   "cell_type": "code",
   "execution_count": null,
   "id": "43b8ae19-2fcb-47ee-819a-c5a080c878b8",
   "metadata": {},
   "outputs": [],
   "source": [
    "index =  \"\"\n",
    "language = \"\"\n",
    "endpoint_name = \"\"\n",
    "image_endpoint_name = ''"
   ]
  },
  {
   "cell_type": "code",
   "execution_count": null,
   "id": "cfff71e5-9987-4055-bdb1-d32adbfa5d4d",
   "metadata": {},
   "outputs": [],
   "source": [
    "import json\n",
    "from opensearch_search import add_products\n",
    "from embeddings import get_embedding_sagemaker,get_image_embedding_sagemaker\n",
    "import csv\n",
    "local_file = \"../docs/algolia_offers1000.csv\"\n",
    "\n",
    "product_info_list = []\n",
    "product_embedding_list = []\n",
    "image_embedding_list = []\n",
    "metadatas = []\n",
    "i = 0\n",
    "image_name = 'mainImage'\n",
    "\n",
    "csvfile=open(local_file,mode='r',encoding='utf-8')\n",
    "reader = [each for each in csv.DictReader(csvfile, delimiter=',')]\n",
    "\n",
    "for line in reader:\n",
    "    metadata = {}\n",
    "    image_url = ''\n",
    "    for key in line.keys():\n",
    "        metadata[key.replace('\\ufeff','').strip()] = line[key].strip()\n",
    "        if key == image_name:\n",
    "            image_url = line[key].strip()\n",
    "\n",
    "    image_embedding = ''\n",
    "    if len(image_url) > 0:\n",
    "        try:\n",
    "            image_embedding = get_image_embedding_sagemaker(image_endpoint_name,image_url)\n",
    "        except:\n",
    "            print(\"image embedding error at:\" + str(i))\n",
    "    else:\n",
    "        print('image_url is none')\n",
    "        break\n",
    "\n",
    "    if len(image_embedding) > 0:\n",
    "        image_embedding_list.append(image_embedding)\n",
    "        metadatas.append(metadata)\n",
    "        product_info_list.append(image_url)\n",
    "\n",
    "    i += 1\n",
    "    if i % 100 == 0:\n",
    "        print('data number:',i)\n",
    "    if i % 100 == 0 and len(image_embedding_list) > 0:\n",
    "        add_products(index,product_info_list,product_embedding_list,metadatas,image_embedding_list)\n",
    "        product_info_list = []\n",
    "        product_embedding_list = []\n",
    "        image_embedding_list = []\n",
    "        metadatas = []\n",
    "\n",
    "print('total data number:',i)\n",
    "\n",
    "add_products(index,product_info_list,product_embedding_list,metadatas,image_embedding_list)\n",
    "\n",
    "print('finish add products to opensearch,index is:' + index)"
   ]
  }
 ],
 "metadata": {
  "kernelspec": {
   "display_name": "conda_pytorch_p310",
   "language": "python",
   "name": "conda_pytorch_p310"
  },
  "language_info": {
   "codemirror_mode": {
    "name": "ipython",
    "version": 3
   },
   "file_extension": ".py",
   "mimetype": "text/x-python",
   "name": "python",
   "nbconvert_exporter": "python",
   "pygments_lexer": "ipython3",
   "version": "3.10.13"
  }
 },
 "nbformat": 4,
 "nbformat_minor": 5
}
